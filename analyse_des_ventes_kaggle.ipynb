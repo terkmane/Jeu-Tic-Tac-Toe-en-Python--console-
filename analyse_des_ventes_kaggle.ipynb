{
  "cells": [
    {
      "cell_type": "markdown",
      "metadata": {
        "id": "view-in-github",
        "colab_type": "text"
      },
      "source": [
        "<a href=\"https://colab.research.google.com/github/terkmane/Jeu-Tic-Tac-Toe-en-Python--console-/blob/main/analyse_des_ventes_kaggle.ipynb\" target=\"_parent\"><img src=\"https://colab.research.google.com/assets/colab-badge.svg\" alt=\"Open In Colab\"/></a>"
      ]
    },
    {
      "source": [
        "# IMPORTANT: RUN THIS CELL IN ORDER TO IMPORT YOUR KAGGLE DATA SOURCES,\n",
        "# THEN FEEL FREE TO DELETE THIS CELL.\n",
        "# NOTE: THIS NOTEBOOK ENVIRONMENT DIFFERS FROM KAGGLE'S PYTHON\n",
        "# ENVIRONMENT SO THERE MAY BE MISSING LIBRARIES USED BY YOUR\n",
        "# NOTEBOOK.\n",
        "import kagglehub\n",
        "lilianmotabadu_data_set_got_from_kyanyogasample_sales_data_path = kagglehub.dataset_download('lilianmotabadu/data-set-got-from-kyanyogasample-sales-data')\n",
        "\n",
        "print('Data source import complete.')\n"
      ],
      "metadata": {
        "id": "EG-FsBwx6Yku"
      },
      "cell_type": "code",
      "outputs": [],
      "execution_count": null,
      "id": "EG-FsBwx6Yku"
    },
    {
      "cell_type": "code",
      "execution_count": null,
      "id": "65fedb89",
      "metadata": {
        "execution": {
          "iopub.execute_input": "2024-11-13T18:28:12.206038Z",
          "iopub.status.busy": "2024-11-13T18:28:12.205512Z",
          "iopub.status.idle": "2024-11-13T18:28:13.245675Z",
          "shell.execute_reply": "2024-11-13T18:28:13.244487Z"
        },
        "papermill": {
          "duration": 1.05229,
          "end_time": "2024-11-13T18:28:13.248624",
          "exception": false,
          "start_time": "2024-11-13T18:28:12.196334",
          "status": "completed"
        },
        "tags": [],
        "id": "65fedb89"
      },
      "outputs": [],
      "source": [
        "import pandas as pd"
      ]
    },
    {
      "cell_type": "code",
      "execution_count": null,
      "id": "dd9cc46b",
      "metadata": {
        "execution": {
          "iopub.execute_input": "2024-11-13T18:28:13.264695Z",
          "iopub.status.busy": "2024-11-13T18:28:13.263593Z",
          "iopub.status.idle": "2024-11-13T18:28:13.309957Z",
          "shell.execute_reply": "2024-11-13T18:28:13.308669Z"
        },
        "papermill": {
          "duration": 0.057532,
          "end_time": "2024-11-13T18:28:13.313198",
          "exception": false,
          "start_time": "2024-11-13T18:28:13.255666",
          "status": "completed"
        },
        "tags": [],
        "id": "dd9cc46b"
      },
      "outputs": [],
      "source": [
        "#Chargement du dataset\n",
        "\n",
        "data = pd.read_csv('/kaggle/input/data-set-got-from-kyanyogasample-sales-data/sales_data_sample.csv', encoding='ISO-8859-1')\n"
      ]
    },
    {
      "cell_type": "code",
      "execution_count": null,
      "id": "5c17f664",
      "metadata": {
        "execution": {
          "iopub.execute_input": "2024-11-13T18:28:13.330198Z",
          "iopub.status.busy": "2024-11-13T18:28:13.329101Z",
          "iopub.status.idle": "2024-11-13T18:28:13.358724Z",
          "shell.execute_reply": "2024-11-13T18:28:13.357599Z"
        },
        "papermill": {
          "duration": 0.040779,
          "end_time": "2024-11-13T18:28:13.361579",
          "exception": false,
          "start_time": "2024-11-13T18:28:13.3208",
          "status": "completed"
        },
        "tags": [],
        "id": "5c17f664",
        "outputId": "109f3ab6-d249-4664-fadb-0529ab749b80"
      },
      "outputs": [
        {
          "name": "stdout",
          "output_type": "stream",
          "text": [
            "   ORDERNUMBER  QUANTITYORDERED  PRICEEACH  ORDERLINENUMBER    SALES  \\\n",
            "0        10107               30      95.70                2  2871.00   \n",
            "1        10121               34      81.35                5  2765.90   \n",
            "2        10134               41      94.74                2  3884.34   \n",
            "3        10145               45      83.26                6  3746.70   \n",
            "4        10159               49     100.00               14  5205.27   \n",
            "\n",
            "         ORDERDATE   STATUS  QTR_ID  MONTH_ID  YEAR_ID  ...  \\\n",
            "0   2/24/2003 0:00  Shipped       1         2     2003  ...   \n",
            "1    5/7/2003 0:00  Shipped       2         5     2003  ...   \n",
            "2    7/1/2003 0:00  Shipped       3         7     2003  ...   \n",
            "3   8/25/2003 0:00  Shipped       3         8     2003  ...   \n",
            "4  10/10/2003 0:00  Shipped       4        10     2003  ...   \n",
            "\n",
            "                    ADDRESSLINE1  ADDRESSLINE2           CITY STATE  \\\n",
            "0        897 Long Airport Avenue           NaN            NYC    NY   \n",
            "1             59 rue de l'Abbaye           NaN          Reims   NaN   \n",
            "2  27 rue du Colonel Pierre Avia           NaN          Paris   NaN   \n",
            "3             78934 Hillside Dr.           NaN       Pasadena    CA   \n",
            "4                7734 Strong St.           NaN  San Francisco    CA   \n",
            "\n",
            "  POSTALCODE COUNTRY TERRITORY CONTACTLASTNAME CONTACTFIRSTNAME DEALSIZE  \n",
            "0      10022     USA       NaN              Yu             Kwai    Small  \n",
            "1      51100  France      EMEA         Henriot             Paul    Small  \n",
            "2      75508  France      EMEA        Da Cunha           Daniel   Medium  \n",
            "3      90003     USA       NaN           Young            Julie   Medium  \n",
            "4        NaN     USA       NaN           Brown            Julie   Medium  \n",
            "\n",
            "[5 rows x 25 columns]\n"
          ]
        }
      ],
      "source": [
        "# Afficher les premières lignes du dataset\n",
        "\n",
        "print(data.head())"
      ]
    },
    {
      "cell_type": "code",
      "execution_count": null,
      "id": "5e4d0e18",
      "metadata": {
        "execution": {
          "iopub.execute_input": "2024-11-13T18:28:13.376814Z",
          "iopub.status.busy": "2024-11-13T18:28:13.376317Z",
          "iopub.status.idle": "2024-11-13T18:28:13.409779Z",
          "shell.execute_reply": "2024-11-13T18:28:13.408215Z"
        },
        "papermill": {
          "duration": 0.044596,
          "end_time": "2024-11-13T18:28:13.412933",
          "exception": false,
          "start_time": "2024-11-13T18:28:13.368337",
          "status": "completed"
        },
        "tags": [],
        "id": "5e4d0e18",
        "outputId": "60af8f18-ce9f-4269-8bdf-66a3ba93db2e"
      },
      "outputs": [
        {
          "name": "stdout",
          "output_type": "stream",
          "text": [
            "<class 'pandas.core.frame.DataFrame'>\n",
            "RangeIndex: 2823 entries, 0 to 2822\n",
            "Data columns (total 25 columns):\n",
            " #   Column            Non-Null Count  Dtype  \n",
            "---  ------            --------------  -----  \n",
            " 0   ORDERNUMBER       2823 non-null   int64  \n",
            " 1   QUANTITYORDERED   2823 non-null   int64  \n",
            " 2   PRICEEACH         2823 non-null   float64\n",
            " 3   ORDERLINENUMBER   2823 non-null   int64  \n",
            " 4   SALES             2823 non-null   float64\n",
            " 5   ORDERDATE         2823 non-null   object \n",
            " 6   STATUS            2823 non-null   object \n",
            " 7   QTR_ID            2823 non-null   int64  \n",
            " 8   MONTH_ID          2823 non-null   int64  \n",
            " 9   YEAR_ID           2823 non-null   int64  \n",
            " 10  PRODUCTLINE       2823 non-null   object \n",
            " 11  MSRP              2823 non-null   int64  \n",
            " 12  PRODUCTCODE       2823 non-null   object \n",
            " 13  CUSTOMERNAME      2823 non-null   object \n",
            " 14  PHONE             2823 non-null   object \n",
            " 15  ADDRESSLINE1      2823 non-null   object \n",
            " 16  ADDRESSLINE2      302 non-null    object \n",
            " 17  CITY              2823 non-null   object \n",
            " 18  STATE             1337 non-null   object \n",
            " 19  POSTALCODE        2747 non-null   object \n",
            " 20  COUNTRY           2823 non-null   object \n",
            " 21  TERRITORY         1749 non-null   object \n",
            " 22  CONTACTLASTNAME   2823 non-null   object \n",
            " 23  CONTACTFIRSTNAME  2823 non-null   object \n",
            " 24  DEALSIZE          2823 non-null   object \n",
            "dtypes: float64(2), int64(7), object(16)\n",
            "memory usage: 551.5+ KB\n",
            "None\n"
          ]
        }
      ],
      "source": [
        "# Afficher les informations générales sur le dataset\n",
        "\n",
        "print(data.info())"
      ]
    },
    {
      "cell_type": "code",
      "execution_count": null,
      "id": "88135915",
      "metadata": {
        "execution": {
          "iopub.execute_input": "2024-11-13T18:28:13.429603Z",
          "iopub.status.busy": "2024-11-13T18:28:13.429142Z",
          "iopub.status.idle": "2024-11-13T18:28:13.464036Z",
          "shell.execute_reply": "2024-11-13T18:28:13.462793Z"
        },
        "papermill": {
          "duration": 0.046629,
          "end_time": "2024-11-13T18:28:13.466894",
          "exception": false,
          "start_time": "2024-11-13T18:28:13.420265",
          "status": "completed"
        },
        "tags": [],
        "id": "88135915",
        "outputId": "68e40391-2095-4128-9439-040eb85b6ddb"
      },
      "outputs": [
        {
          "name": "stdout",
          "output_type": "stream",
          "text": [
            "        ORDERNUMBER  QUANTITYORDERED    PRICEEACH  ORDERLINENUMBER  \\\n",
            "count   2823.000000      2823.000000  2823.000000      2823.000000   \n",
            "mean   10258.725115        35.092809    83.658544         6.466171   \n",
            "std       92.085478         9.741443    20.174277         4.225841   \n",
            "min    10100.000000         6.000000    26.880000         1.000000   \n",
            "25%    10180.000000        27.000000    68.860000         3.000000   \n",
            "50%    10262.000000        35.000000    95.700000         6.000000   \n",
            "75%    10333.500000        43.000000   100.000000         9.000000   \n",
            "max    10425.000000        97.000000   100.000000        18.000000   \n",
            "\n",
            "              SALES       QTR_ID     MONTH_ID     YEAR_ID         MSRP  \n",
            "count   2823.000000  2823.000000  2823.000000  2823.00000  2823.000000  \n",
            "mean    3553.889072     2.717676     7.092455  2003.81509   100.715551  \n",
            "std     1841.865106     1.203878     3.656633     0.69967    40.187912  \n",
            "min      482.130000     1.000000     1.000000  2003.00000    33.000000  \n",
            "25%     2203.430000     2.000000     4.000000  2003.00000    68.000000  \n",
            "50%     3184.800000     3.000000     8.000000  2004.00000    99.000000  \n",
            "75%     4508.000000     4.000000    11.000000  2004.00000   124.000000  \n",
            "max    14082.800000     4.000000    12.000000  2005.00000   214.000000  \n"
          ]
        }
      ],
      "source": [
        "# Résumé statistique\n",
        "\n",
        "print(data.describe())"
      ]
    },
    {
      "cell_type": "code",
      "execution_count": null,
      "id": "a41f61ee",
      "metadata": {
        "execution": {
          "iopub.execute_input": "2024-11-13T18:28:13.483897Z",
          "iopub.status.busy": "2024-11-13T18:28:13.483062Z",
          "iopub.status.idle": "2024-11-13T18:28:13.500257Z",
          "shell.execute_reply": "2024-11-13T18:28:13.499109Z"
        },
        "papermill": {
          "duration": 0.02839,
          "end_time": "2024-11-13T18:28:13.502856",
          "exception": false,
          "start_time": "2024-11-13T18:28:13.474466",
          "status": "completed"
        },
        "tags": [],
        "id": "a41f61ee",
        "outputId": "0d0b4783-72f8-4d64-fce4-e4d561140fb6"
      },
      "outputs": [
        {
          "name": "stdout",
          "output_type": "stream",
          "text": [
            "0      2003-02-24\n",
            "1      2003-05-07\n",
            "2      2003-07-01\n",
            "3      2003-08-25\n",
            "4      2003-10-10\n",
            "          ...    \n",
            "2818   2004-12-02\n",
            "2819   2005-01-31\n",
            "2820   2005-03-01\n",
            "2821   2005-03-28\n",
            "2822   2005-05-06\n",
            "Name: ORDERDATE, Length: 2823, dtype: datetime64[ns]\n"
          ]
        }
      ],
      "source": [
        "# Convertir la colonne 'OrderDate' en type datetime\n",
        "\n",
        "data['ORDERDATE'] = pd.to_datetime(data['ORDERDATE'])\n",
        "\n",
        "print(data['ORDERDATE'])"
      ]
    },
    {
      "cell_type": "code",
      "execution_count": null,
      "id": "b271caaf",
      "metadata": {
        "execution": {
          "iopub.execute_input": "2024-11-13T18:28:13.520398Z",
          "iopub.status.busy": "2024-11-13T18:28:13.519901Z",
          "iopub.status.idle": "2024-11-13T18:28:13.533537Z",
          "shell.execute_reply": "2024-11-13T18:28:13.53208Z"
        },
        "papermill": {
          "duration": 0.024818,
          "end_time": "2024-11-13T18:28:13.536123",
          "exception": false,
          "start_time": "2024-11-13T18:28:13.511305",
          "status": "completed"
        },
        "tags": [],
        "id": "b271caaf",
        "outputId": "4a056f8c-0f91-4e42-b900-0cbaf083f843"
      },
      "outputs": [
        {
          "name": "stdout",
          "output_type": "stream",
          "text": [
            "0       2003-02\n",
            "1       2003-05\n",
            "2       2003-07\n",
            "3       2003-08\n",
            "4       2003-10\n",
            "         ...   \n",
            "2818    2004-12\n",
            "2819    2005-01\n",
            "2820    2005-03\n",
            "2821    2005-03\n",
            "2822    2005-05\n",
            "Name: Month, Length: 2823, dtype: period[M]\n"
          ]
        }
      ],
      "source": [
        "# Créer une colonne 'Month' pour regrouper les données par mois\n",
        "\n",
        "data['Month'] = data['ORDERDATE'].dt.to_period('M')\n",
        "\n",
        "print(data['Month'])"
      ]
    },
    {
      "cell_type": "code",
      "execution_count": null,
      "id": "eb447d10",
      "metadata": {
        "execution": {
          "iopub.execute_input": "2024-11-13T18:28:13.553256Z",
          "iopub.status.busy": "2024-11-13T18:28:13.55249Z",
          "iopub.status.idle": "2024-11-13T18:28:13.563181Z",
          "shell.execute_reply": "2024-11-13T18:28:13.562115Z"
        },
        "papermill": {
          "duration": 0.023138,
          "end_time": "2024-11-13T18:28:13.566753",
          "exception": false,
          "start_time": "2024-11-13T18:28:13.543615",
          "status": "completed"
        },
        "tags": [],
        "id": "eb447d10",
        "outputId": "7a182d6e-7621-4230-af2e-66fd05ad1d47"
      },
      "outputs": [
        {
          "name": "stdout",
          "output_type": "stream",
          "text": [
            "Month\n",
            "2003-01     129753.60\n",
            "2003-02     140836.19\n",
            "2003-03     174504.90\n",
            "2003-04     201609.55\n",
            "2003-05     192673.11\n",
            "2003-06     168082.56\n",
            "2003-07     187731.88\n",
            "2003-08     197809.30\n",
            "2003-09     263973.36\n",
            "2003-10     568290.97\n",
            "2003-11    1029837.66\n",
            "2003-12     261876.46\n",
            "2004-01     316577.42\n",
            "2004-02     311419.53\n",
            "2004-03     205733.73\n",
            "2004-04     206148.12\n",
            "2004-05     273438.39\n",
            "2004-06     286674.22\n",
            "2004-07     327144.09\n",
            "2004-08     461501.27\n",
            "2004-09     320750.91\n",
            "2004-10     552924.25\n",
            "2004-11    1089048.01\n",
            "2004-12     372802.66\n",
            "2005-01     339543.42\n",
            "2005-02     358186.18\n",
            "2005-03     374262.76\n",
            "2005-04     261633.29\n",
            "2005-05     457861.06\n",
            "Freq: M, Name: SALES, dtype: float64\n"
          ]
        }
      ],
      "source": [
        "# Agréger les ventes par mois\n",
        "\n",
        "monthly_sales = data.groupby('Month')['SALES'].sum()\n",
        "\n",
        "print(monthly_sales)"
      ]
    },
    {
      "cell_type": "markdown",
      "id": "612d7ba2",
      "metadata": {
        "papermill": {
          "duration": 0.009263,
          "end_time": "2024-11-13T18:28:13.583913",
          "exception": false,
          "start_time": "2024-11-13T18:28:13.57465",
          "status": "completed"
        },
        "tags": [],
        "id": "612d7ba2"
      },
      "source": [
        "# Plus d'explications :\n",
        "\n",
        "\n",
        "\n",
        "•\tdata['ORDERDATE'].dt.to_period('M') -  Convertit la date en période mensuelle pour une agrégation mensuelle.\n",
        "\n",
        "\n",
        "\n",
        "•\tgroupby('Month')['SALES'].sum() -  Agrège les ventes par mois pour calculer les ventes totales.\n",
        "\n",
        "\n",
        "\n",
        "•\tgroupby('PRODUCTCODE')['SALES'].sum().sort_values(ascending=False).head(10) - Agrège et trie les ventes par produit pour   obtenir les 10 produits les plus performants.\n"
      ]
    },
    {
      "cell_type": "markdown",
      "id": "51d83768",
      "metadata": {
        "papermill": {
          "duration": 0.007332,
          "end_time": "2024-11-13T18:28:13.598923",
          "exception": false,
          "start_time": "2024-11-13T18:28:13.591591",
          "status": "completed"
        },
        "tags": [],
        "id": "51d83768"
      },
      "source": [
        "# Analyse des ventes totales au fil du temps pour identifier les tendances saisonnières"
      ]
    },
    {
      "cell_type": "code",
      "execution_count": null,
      "id": "9383a410",
      "metadata": {
        "execution": {
          "iopub.execute_input": "2024-11-13T18:28:13.615951Z",
          "iopub.status.busy": "2024-11-13T18:28:13.615555Z",
          "iopub.status.idle": "2024-11-13T18:28:13.620873Z",
          "shell.execute_reply": "2024-11-13T18:28:13.619607Z"
        },
        "papermill": {
          "duration": 0.016826,
          "end_time": "2024-11-13T18:28:13.623478",
          "exception": false,
          "start_time": "2024-11-13T18:28:13.606652",
          "status": "completed"
        },
        "tags": [],
        "id": "9383a410"
      },
      "outputs": [],
      "source": [
        "import matplotlib.pyplot as plt"
      ]
    },
    {
      "cell_type": "code",
      "execution_count": null,
      "id": "91154721",
      "metadata": {
        "execution": {
          "iopub.execute_input": "2024-11-13T18:28:13.641469Z",
          "iopub.status.busy": "2024-11-13T18:28:13.640288Z",
          "iopub.status.idle": "2024-11-13T18:28:14.259736Z",
          "shell.execute_reply": "2024-11-13T18:28:14.258574Z"
        },
        "papermill": {
          "duration": 0.630869,
          "end_time": "2024-11-13T18:28:14.26219",
          "exception": false,
          "start_time": "2024-11-13T18:28:13.631321",
          "status": "completed"
        },
        "tags": [],
        "id": "91154721",
        "outputId": "1cf4681f-cd23-469f-f398-ae6e570d3a5e"
      },
      "outputs": [
        {
          "data": {
            "image/png": "[encoded data removed]",
            "text/plain": [
              "<Figure size 1400x600 with 1 Axes>"
            ]
          },
          "metadata": {},
          "output_type": "display_data"
        }
      ],
      "source": [
        "# Tracer les ventes totales au fil du temps\n",
        "\n",
        "\n",
        "\n",
        "plt.figure(figsize=(14, 6))\n",
        "\n",
        "monthly_sales.plot(kind='line', marker='o', color='b')\n",
        "\n",
        "plt.title('Tendances des Ventes Totales au Fil du Temps')\n",
        "\n",
        "plt.xlabel('Date')\n",
        "\n",
        "plt.ylabel('Ventes Totales ($)')\n",
        "\n",
        "plt.grid(True)\n",
        "\n",
        "plt.xticks(rotation=45)\n",
        "\n",
        "plt.tight_layout()\n",
        "\n",
        "plt.show()"
      ]
    },
    {
      "cell_type": "markdown",
      "id": "5a47de09",
      "metadata": {
        "papermill": {
          "duration": 0.008695,
          "end_time": "2024-11-13T18:28:14.279831",
          "exception": false,
          "start_time": "2024-11-13T18:28:14.271136",
          "status": "completed"
        },
        "tags": [],
        "id": "5a47de09"
      },
      "source": [
        "#  Plus d'explications :\n",
        "\n",
        "\n",
        "\n",
        "•\tplt.figure(figsize=(14, 6))- Ça va créer une nouvelle figure avec une taille spécifiée de 14 pouces de large et 6 pouces de haut. Cela aide à rendre le graphique plus lisible, surtout si vous avez beaucoup de données à afficher.\n",
        "\n",
        "\n",
        "\n",
        "•\tmonthly_sales.plot(kind='line', marker='o', color='b') : Utilise pandas pour tracer un graphique de ligne des ventes mensuelles (monthly_sales). Le paramètre marker='o' ajoute des cercles à chaque point de donnée sur la ligne, et color='b' définit la couleur de la ligne en bleu.\n",
        "\n",
        "\n",
        "\n",
        "•\tplt.title('Tendances des Ventes Totales au Fil du Temps') : Ajoute un titre au graphique.\n",
        "\n",
        "\n",
        "\n",
        "•\tplt.ylabel('Ventes Totales ($)') : Ajoute une étiquette à l'axe des ordonnées (axe Y) pour indiquer que les valeurs représentent des montants en dollars.\n",
        "\n",
        "\n",
        "\n",
        "•\tplt.grid(True) : Active la grille dans le graphique pour faciliter la lecture des données.\n",
        "\n",
        "\n",
        "\n",
        "•\tplt.xticks(rotation=45) : Fait pivoter les étiquettes de l'axe X de 45 degrés pour les rendre plus lisibles, surtout si elles contiennent des dates ou des informations longues.\n",
        "\n",
        "\n",
        "\n",
        "•\tplt.tight_layout() : Ajuste automatiquement la disposition du graphique pour s'assurer que les étiquettes, titres et autres éléments ne se chevauchent pas et restent bien alignés dans la figure.\n",
        "\n",
        "\n",
        "\n",
        "•\tplt.show() : Affiche le graphique à l'écran.\n",
        "\n",
        "\n",
        "\n",
        "\n"
      ]
    },
    {
      "cell_type": "markdown",
      "id": "ec6b221a",
      "metadata": {
        "papermill": {
          "duration": 0.008447,
          "end_time": "2024-11-13T18:28:14.297109",
          "exception": false,
          "start_time": "2024-11-13T18:28:14.288662",
          "status": "completed"
        },
        "tags": [],
        "id": "ec6b221a"
      },
      "source": [
        "# Analyse des produits les plus performants"
      ]
    },
    {
      "cell_type": "code",
      "execution_count": null,
      "id": "99f25fdc",
      "metadata": {
        "execution": {
          "iopub.execute_input": "2024-11-13T18:28:14.316567Z",
          "iopub.status.busy": "2024-11-13T18:28:14.316109Z",
          "iopub.status.idle": "2024-11-13T18:28:14.780714Z",
          "shell.execute_reply": "2024-11-13T18:28:14.77961Z"
        },
        "papermill": {
          "duration": 0.477542,
          "end_time": "2024-11-13T18:28:14.783466",
          "exception": false,
          "start_time": "2024-11-13T18:28:14.305924",
          "status": "completed"
        },
        "tags": [],
        "id": "99f25fdc",
        "outputId": "3ceb43c3-698e-4a3f-edb5-412b8333b8d4"
      },
      "outputs": [
        {
          "data": {
            "image/png": "[encoded data removed]",
            "text/plain": [
              "<Figure size 1400x600 with 1 Axes>"
            ]
          },
          "metadata": {},
          "output_type": "display_data"
        }
      ],
      "source": [
        "# Identifier les produits les plus performants en termes de ventes totales\n",
        "\n",
        "top_products = data.groupby('PRODUCTCODE')['SALES'].sum().sort_values(ascending=False).head(10)\n",
        "\n",
        "\n",
        "\n",
        "# Tracer un graphique en barres des produits les plus performants\n",
        "\n",
        "plt.figure(figsize=(14, 6))\n",
        "\n",
        "top_products.plot(kind='bar', color='orange')\n",
        "\n",
        "plt.title('Top 10 des Produits les Plus Performants')\n",
        "\n",
        "plt.xlabel('Code Produit')\n",
        "\n",
        "plt.ylabel('Ventes Totales ($)')\n",
        "\n",
        "plt.xticks(rotation=45)\n",
        "\n",
        "plt.tight_layout()\n",
        "\n",
        "plt.show()\n"
      ]
    },
    {
      "cell_type": "markdown",
      "id": "09f201ea",
      "metadata": {
        "papermill": {
          "duration": 0.009319,
          "end_time": "2024-11-13T18:28:14.803501",
          "exception": false,
          "start_time": "2024-11-13T18:28:14.794182",
          "status": "completed"
        },
        "tags": [],
        "id": "09f201ea"
      },
      "source": [
        "# Plus d'explications :\n",
        "\n",
        "\n",
        "\n",
        "top_products = data.groupby('PRODUCTCODE')['SALES'].sum().sort_values(ascending=False).head(10) - Trace un graphique en barres où les données de top_products sont affichées. Le paramètre kind='bar' spécifie que le type de graphique est un diagramme en barres, et color='orange' indique la couleur des barres.\n",
        "\n",
        "\n",
        "\n",
        "•\tdata.groupby('PRODUCTCODE') : Regroupe les données par la colonne PRODUCTCODE, ce qui signifie que toutes les lignes ayant le même code produit seront considérées ensemble.\n",
        "\n",
        "\n",
        "\n",
        "•\t['SALES'].sum() : Calcule la somme des ventes (SALES) pour chaque groupe de produits.\n",
        "\n",
        "\n",
        "\n",
        "•\t.sort_values(ascending=False) : Trie les produits par ordre décroissant des ventes totales, de sorte que les produits les plus performants apparaissent en premier.\n",
        "\n",
        "\n",
        "\n",
        "•\t.head(10) : Sélectionne les 10 produits les plus performants.\n",
        "\n",
        "\n",
        "\n",
        "•\tplt.figure(figsize=(14, 6)) - plt.figure(figsize=(14, 6)) : Crée une figure de taille 14 pouces de large par 6 pouces de haut pour une meilleure visualisation.\n",
        "\n",
        "\n",
        "\n",
        "•\ttop_products.plot(kind='bar', color='orange') - top_products.plot(kind='bar', color='orange') : Trace un graphique en barres où les données de top_products sont affichées. Le paramètre kind='bar' spécifie que le type de graphique est un diagramme en barres, et color='orange' indique la couleur des barres.\n",
        "\n",
        "\n",
        "\n",
        "•\tplt.title('Top 10 des Produits les Plus Performants') - plt.title() : Ajoute un titre au graphique.\n",
        "\n",
        "\n",
        "\n",
        "•\tplt.xlabel('Code Produit') - plt.xlabel('Code Produit') : Ajoute une étiquette à l'axe des abscisses pour indiquer qu'il représente les codes produits.\n",
        "\n",
        "\n",
        "\n",
        "•\tplt.ylabel('Ventes Totales ($)') : Ajoute une étiquette à l'axe des ordonnées, indiquant que les valeurs représentent les ventes totales en dollars.\n",
        "\n",
        "\n",
        "\n",
        "•\tplt.xticks(rotation=45) : Pivote les étiquettes de l'axe X de 45 degrés pour les rendre plus lisibles, surtout si les codes produits sont longs.\n",
        "\n",
        "\n",
        "\n",
        "•\tplt.tight_layout() : Ajuste automatiquement la disposition du graphique pour éviter que les étiquettes et autres éléments ne se chevauchent.\n",
        "\n",
        "\n",
        "\n",
        "•\tplt.show() : Affiche le graphique à l'écran.\n"
      ]
    },
    {
      "cell_type": "code",
      "execution_count": null,
      "id": "2993a92d",
      "metadata": {
        "execution": {
          "iopub.execute_input": "2024-11-13T18:28:14.825388Z",
          "iopub.status.busy": "2024-11-13T18:28:14.824477Z",
          "iopub.status.idle": "2024-11-13T18:28:14.840181Z",
          "shell.execute_reply": "2024-11-13T18:28:14.838349Z"
        },
        "papermill": {
          "duration": 0.029653,
          "end_time": "2024-11-13T18:28:14.842905",
          "exception": false,
          "start_time": "2024-11-13T18:28:14.813252",
          "status": "completed"
        },
        "tags": [],
        "id": "2993a92d",
        "outputId": "e55c344b-82dc-405d-c9e1-70f9c5867437"
      },
      "outputs": [
        {
          "name": "stdout",
          "output_type": "stream",
          "text": [
            "Produits les plus performants :\n",
            "PRODUCTCODE\n",
            "S18_3232    288245.42\n",
            "S10_1949    191073.03\n",
            "S10_4698    170401.07\n",
            "S12_1108    168585.32\n",
            "S18_2238    154623.95\n",
            "S12_3891    145332.04\n",
            "S24_3856    140626.90\n",
            "S12_2823    140006.16\n",
            "S18_1662    139421.97\n",
            "S12_1099    137177.01\n",
            "Name: SALES, dtype: float64\n",
            "\n",
            "Tendances mensuelles des ventes pour les derniers mois :\n",
            "ORDERDATE\n",
            "2004-06     286674.22\n",
            "2004-07     327144.09\n",
            "2004-08     461501.27\n",
            "2004-09     320750.91\n",
            "2004-10     552924.25\n",
            "2004-11    1089048.01\n",
            "2004-12     372802.66\n",
            "2005-01     339543.42\n",
            "2005-02     358186.18\n",
            "2005-03     374262.76\n",
            "2005-04     261633.29\n",
            "2005-05     457861.06\n",
            "Freq: M, Name: SALES, dtype: float64\n"
          ]
        }
      ],
      "source": [
        "# 1. Identification des produits les plus performants en utilisant seulement code en Python\n",
        "\n",
        "\n",
        "\n",
        "produits_top = data.groupby('PRODUCTCODE')['SALES'].sum().sort_values(ascending=False).head(10)\n",
        "\n",
        "print(\"Produits les plus performants :\")\n",
        "\n",
        "print(produits_top)\n",
        "\n",
        "\n",
        "\n",
        "# 2. Analyse des tendances mensuelles des ventes\n",
        "\n",
        "tendances_ventes = data.groupby(data['ORDERDATE'].dt.to_period(\"M\"))['SALES'].sum()\n",
        "\n",
        "print(\"\\nTendances mensuelles des ventes pour les derniers mois :\")\n",
        "\n",
        "print(tendances_ventes.tail(12))"
      ]
    },
    {
      "cell_type": "markdown",
      "id": "d3fb278b",
      "metadata": {
        "papermill": {
          "duration": 0.009834,
          "end_time": "2024-11-13T18:28:14.862637",
          "exception": false,
          "start_time": "2024-11-13T18:28:14.852803",
          "status": "completed"
        },
        "tags": [],
        "id": "d3fb278b"
      },
      "source": [
        "# Analyse des Tendances de Ventes et Produits les Plus Performants\n",
        "\n",
        "\n",
        "\n",
        "1.\tProduits les Plus Vendus :\n",
        "\n",
        "\n",
        "\n",
        "•\tLe produit avec le plus grand volume de ventes est le code S18_3232, générant un chiffre d'affaires total de 288 245,42$.\n",
        "\n",
        "\n",
        "\n",
        "•\tD'autres produits performants incluent 10_1949$, S10_4698, et S12_1108, chacun générant plus de 150 000$ en ventes.\n",
        "\n",
        "\n",
        "\n",
        "2.\tTendances Mensuelles des Ventes :\n",
        "\n",
        "\n",
        "\n",
        "•\tDes pics de ventes sont observés en novembre 2004 (1 089 048,01$) et octobre 2004 (552 924,25$), indiquant que la fin de l'année est la période la plus forte en termes de ventes.\n",
        "\n",
        "\n",
        "\n",
        "•\tUne baisse des ventes est visible en avril 2005, avec une reprise en mai 2005.\n",
        "\n",
        "\n",
        "\n",
        "\n"
      ]
    },
    {
      "cell_type": "code",
      "execution_count": null,
      "id": "3c707eaa",
      "metadata": {
        "execution": {
          "iopub.execute_input": "2024-11-13T18:28:14.884547Z",
          "iopub.status.busy": "2024-11-13T18:28:14.884095Z",
          "iopub.status.idle": "2024-11-13T18:28:14.908458Z",
          "shell.execute_reply": "2024-11-13T18:28:14.907289Z"
        },
        "papermill": {
          "duration": 0.038382,
          "end_time": "2024-11-13T18:28:14.910979",
          "exception": false,
          "start_time": "2024-11-13T18:28:14.872597",
          "status": "completed"
        },
        "tags": [],
        "id": "3c707eaa",
        "outputId": "8782ba37-bb57-413c-90ea-3e6664a01b83"
      },
      "outputs": [
        {
          "data": {
            "text/plain": [
              "(PRODUCTCODE\n",
              " S18_3232    288245.42\n",
              " S10_1949    191073.03\n",
              " S10_4698    170401.07\n",
              " S12_1108    168585.32\n",
              " S18_2238    154623.95\n",
              " S12_3891    145332.04\n",
              " S24_3856    140626.90\n",
              " S12_2823    140006.16\n",
              " S18_1662    139421.97\n",
              " S12_1099    137177.01\n",
              " Name: SALES, dtype: float64,\n",
              " ORDERDATE\n",
              " 2004-06     286674.22\n",
              " 2004-07     327144.09\n",
              " 2004-08     461501.27\n",
              " 2004-09     320750.91\n",
              " 2004-10     552924.25\n",
              " 2004-11    1089048.01\n",
              " 2004-12     372802.66\n",
              " 2005-01     339543.42\n",
              " 2005-02     358186.18\n",
              " 2005-03     374262.76\n",
              " 2005-04     261633.29\n",
              " 2005-05     457861.06\n",
              " Freq: M, Name: SALES, dtype: float64)"
            ]
          },
          "execution_count": 13,
          "metadata": {},
          "output_type": "execute_result"
        }
      ],
      "source": [
        "# Analyser les données de ventes pour obtenir des insights sur les produits les plus performants et les tendances de ventes\n",
        "\n",
        "\n",
        "\n",
        "# 1. Vérifier les ventes par produit pour identifier les produits les plus performants\n",
        "\n",
        "produits_top = data.groupby('PRODUCTCODE')['SALES'].sum().sort_values(ascending=False).head(10)\n",
        "\n",
        "\n",
        "\n",
        "# 2. Analyser les tendances de ventes par mois et année\n",
        "\n",
        "# Convertir 'ORDERDATE' en objet datetime pour extraire facilement le mois et l'année\n",
        "\n",
        "data['ORDERDATE'] = pd.to_datetime(data['ORDERDATE'], errors='coerce')\n",
        "\n",
        "tendances_ventes = data.groupby(data['ORDERDATE'].dt.to_period(\"M\"))['SALES'].sum()\n",
        "\n",
        "\n",
        "\n",
        "# Afficher les résultats\n",
        "\n",
        "produits_top, tendances_ventes.tail(12)  # Afficher les produits les plus performants et les tendances de ventes pour les 12 derniers mois\n",
        "\n",
        "\n"
      ]
    },
    {
      "cell_type": "markdown",
      "id": "575d34d2",
      "metadata": {
        "papermill": {
          "duration": 0.009769,
          "end_time": "2024-11-13T18:28:14.931016",
          "exception": false,
          "start_time": "2024-11-13T18:28:14.921247",
          "status": "completed"
        },
        "tags": [],
        "id": "575d34d2"
      },
      "source": [
        "# Plus d'explications :\n",
        "\n",
        "\n",
        "\n",
        "1.\tCette ligne regroupe les données par PRODUCTCODE, soit le code de chaque produit.\n",
        "\n",
        "\n",
        "\n",
        "2.\t['SALES'].sum() additionne les ventes (SALES) pour chaque produit, permettant d'obtenir le chiffre d'affaires total par produit.\n",
        "\n",
        "\n",
        "\n",
        "3.\tsort_values(ascending=False) trie les produits par chiffre d'affaires de manière décroissante, affichant ceux qui ont généré le plus de ventes en premier.\n",
        "\n",
        "\n",
        "\n",
        "4.\thead(10) sélectionne les 10 produits ayant les plus hauts chiffres d'affaires, pour identifier les produits les plus performants.\n",
        "\n",
        "\n",
        "\n",
        "5.\tLa première ligne convertit la colonne ORDERDATE (date de commande) en format datetime pour permettre des calculs sur le temps. Le paramètre errors='coerce' convertit les valeurs invalides en NaT (valeurs manquantes).\n",
        "\n",
        "\n",
        "\n",
        "6.\tEnsuite, groupby(donnees_ventes['ORDERDATE'].dt.to_period(\"M\")) regroupe les ventes par période mensuelle (M), pour obtenir les ventes agrégées par mois.\n",
        "\n",
        "\n",
        "\n",
        "7.\t['SALES'].sum() additionne les ventes pour chaque mois, permettant de voir les tendances de ventes mensuelles.\n",
        "\n",
        "8.\tproduits_top affiche les 10 produits les plus performants.\n",
        "\n",
        "\n",
        "\n",
        "9.\ttendances_ventes.tail(12) affiche les ventes mensuelles pour les 12 derniers mois disponibles, permettant d’observer les tendances récentes.\n"
      ]
    },
    {
      "cell_type": "markdown",
      "id": "3bd63316",
      "metadata": {
        "papermill": {
          "duration": 0.009668,
          "end_time": "2024-11-13T18:28:14.951066",
          "exception": false,
          "start_time": "2024-11-13T18:28:14.941398",
          "status": "completed"
        },
        "tags": [],
        "id": "3bd63316"
      },
      "source": [
        "# Stratégies de Ventes Suggérées\n",
        "\n",
        "\n",
        "\n",
        "1.\tFocus sur les Produits Performants :\n",
        "\n",
        "o\tMettre l'accent sur le marketing et les stocks des produits S18_3232, S10_1949, et S10_4698 peut maximiser les revenus, notamment s'ils sont inclus dans des campagnes saisonnières vers la fin de l'année.\n",
        "\n",
        "\n",
        "\n",
        "2.\tCampagnes Saisonnières pour les Périodes de Forte Demande :\n",
        "\n",
        "o\tRenforcer les promotions et augmenter les stocks des produits les plus vendus avant novembre et décembre pourrait capturer le pic de demande annuel.\n",
        "\n",
        "o\tMettre en œuvre des réductions ou des packs promotionnels au début du deuxième semestre pour encourager les ventes avant la période de fin d'année.\n",
        "\n",
        "\n",
        "\n",
        "3.\tSuivi Continu des Performances et Ajustement des Stocks :\n",
        "\n",
        "o\tSurveiller les mois de faibles ventes, comme avril, et envisager des promotions pour compenser les baisses saisonnières.\n",
        "\n",
        "o\tUtiliser les données de ventes pour ajuster la production et les stocks en fonction des fluctuations saisonnières, optimisant ainsi les coûts et les inventaires.\n",
        "\n",
        "\n",
        "\n",
        "Ces stratégies permettront de maintenir un volume de ventes stable et optimisé tout au long de l'année.\n"
      ]
    }
  ],
  "metadata": {
    "kaggle": {
      "accelerator": "none",
      "dataSources": [
        {
          "datasetId": 6079421,
          "sourceId": 9897336,
          "sourceType": "datasetVersion"
        }
      ],
      "dockerImageVersionId": 30786,
      "isGpuEnabled": false,
      "isInternetEnabled": true,
      "language": "python",
      "sourceType": "notebook"
    },
    "kernelspec": {
      "display_name": "Python 3",
      "language": "python",
      "name": "python3"
    },
    "language_info": {
      "codemirror_mode": {
        "name": "ipython",
        "version": 3
      },
      "file_extension": ".py",
      "mimetype": "text/x-python",
      "name": "python",
      "nbconvert_exporter": "python",
      "pygments_lexer": "ipython3",
      "version": "3.10.14"
    },
    "papermill": {
      "default_parameters": {},
      "duration": 6.446973,
      "end_time": "2024-11-13T18:28:15.481992",
      "environment_variables": {},
      "exception": null,
      "input_path": "__notebook__.ipynb",
      "output_path": "__notebook__.ipynb",
      "parameters": {},
      "start_time": "2024-11-13T18:28:09.035019",
      "version": "2.6.0"
    },
    "colab": {
      "name": "analyse-des-ventes-kaggle",
      "provenance": [],
      "include_colab_link": true
    }
  },
  "nbformat": 4,
  "nbformat_minor": 5
}